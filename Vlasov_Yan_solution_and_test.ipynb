{
  "nbformat": 4,
  "nbformat_minor": 0,
  "metadata": {
    "colab": {
      "name": "Vlasov_Yan_solution_and_test.ipynb",
      "provenance": [],
      "authorship_tag": "ABX9TyM/iTqcPzGWh48P0q1tM+ub",
      "include_colab_link": true
    },
    "kernelspec": {
      "name": "python3",
      "display_name": "Python 3"
    }
  },
  "cells": [
    {
      "cell_type": "markdown",
      "metadata": {
        "id": "view-in-github",
        "colab_type": "text"
      },
      "source": [
        "<a href=\"https://colab.research.google.com/github/IanVlasov/NtechLab_TestTask/blob/findMaxSubArray/Vlasov_Yan_solution_and_test.ipynb\" target=\"_parent\"><img src=\"https://colab.research.google.com/assets/colab-badge.svg\" alt=\"Open In Colab\"/></a>"
      ]
    },
    {
      "cell_type": "code",
      "metadata": {
        "id": "EZgedMGLvlL1",
        "colab_type": "code",
        "colab": {}
      },
      "source": [
        "from typing import List"
      ],
      "execution_count": 1,
      "outputs": []
    },
    {
      "cell_type": "code",
      "metadata": {
        "id": "yrns8187wBVx",
        "colab_type": "code",
        "colab": {}
      },
      "source": [
        "def findMaxSubArray(A: List[int]) -> List[int]:\n",
        "    max_sum = -float('infinity')\n",
        "    max_start_id = 0\n",
        "    max_end_id = 0\n",
        "    \n",
        "    cur_sum = -float('infinity')\n",
        "\n",
        "    for i, ele in enumerate(A):\n",
        "        if cur_sum <= 0:\n",
        "            cur_sum, cur_start_id = 0, i\n",
        "        \n",
        "        cur_sum += ele\n",
        "        cur_end_id = i\n",
        "\n",
        "        if cur_sum > max_sum:\n",
        "            max_sum  = cur_sum\n",
        "            max_start_id, max_end_id = cur_start_id, cur_end_id\n",
        "\n",
        "    return A[max_start_id: max_end_id+1]"
      ],
      "execution_count": 2,
      "outputs": []
    },
    {
      "cell_type": "code",
      "metadata": {
        "id": "MWOFfdgJwjXS",
        "colab_type": "code",
        "colab": {}
      },
      "source": [
        "def test_func():\n",
        "    assert findMaxSubArray([0]) == [0]\n",
        "    assert findMaxSubArray([-1]) == [-1]\n",
        "    assert findMaxSubArray([-1, -2, -3]) == [-1]\n",
        "    assert findMaxSubArray([-3, -2, -1]) == [-1]\n",
        "    assert findMaxSubArray([1, 2, 3]) == [1, 2, 3]\n",
        "    assert findMaxSubArray([3, 2, 1]) == [3, 2, 1]\n",
        "    assert findMaxSubArray([1, -2, 3]) == [3]\n",
        "    assert findMaxSubArray([3, -2, 1]) == [3]\n",
        "    assert findMaxSubArray([3, -2, 5]) == [3, -2, 5]\n",
        "    assert findMaxSubArray([-2,1,-3,4,-1,2,1,-5,4]) == [4,-1,2,1]\n",
        "\n",
        "    print('All tests passed')"
      ],
      "execution_count": 3,
      "outputs": []
    },
    {
      "cell_type": "code",
      "metadata": {
        "id": "GxPKe3nNy1aP",
        "colab_type": "code",
        "colab": {
          "base_uri": "https://localhost:8080/",
          "height": 34
        },
        "outputId": "0df68cd2-eb7a-4904-ff58-2cbdc3f2f7bb"
      },
      "source": [
        "test_func()"
      ],
      "execution_count": 4,
      "outputs": [
        {
          "output_type": "stream",
          "text": [
            "All tests passed\n"
          ],
          "name": "stdout"
        }
      ]
    }
  ]
}